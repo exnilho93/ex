{
 "cells": [
  {
   "cell_type": "markdown",
   "id": "12f9f7f9-6448-4604-ae81-fb277729d5a3",
   "metadata": {},
   "source": [
    "## Makeup Exam Answers"
   ]
  },
  {
   "cell_type": "code",
   "execution_count": 1,
   "id": "24ebd26c-157f-495c-855f-0d917b187f37",
   "metadata": {},
   "outputs": [],
   "source": [
    "# Import the required libraries\n",
    "import pandas as pd\n",
    "import numpy as np\n",
    "import sqlite3\n",
    "from sqlite3 import Error"
   ]
  },
  {
   "cell_type": "markdown",
   "id": "3f431cbd-45a4-421f-859b-1d70080a085f",
   "metadata": {},
   "source": [
    "## Question A"
   ]
  },
  {
   "cell_type": "code",
   "execution_count": 7,
   "id": "98b88ba9-b948-4306-b4b9-7195a572fcff",
   "metadata": {},
   "outputs": [],
   "source": [
    "def question_a(size, left, right, distribution='uniform'):\n",
    "    \"\"\"\n",
    "    Return array of random numbers\n",
    "    This function takes in a size, and upper and lower limit,\n",
    "    and generates an array of random numbers following a uniform or normal\n",
    "    distribution.\n",
    "    \n",
    "    Args:\n",
    "        size : integer\n",
    "            Number of elements in returned array\n",
    "        left : float\n",
    "            Lowest number in range of numbers (inclusive)\n",
    "        right : float\n",
    "            Highest number in range of numbers (exclusive)\n",
    "        distribution : string\n",
    "            Options are 'uniform', 'normal'\n",
    "    Returns:\n",
    "        1D Numpy array: float\n",
    "    Exceptions:\n",
    "        Raises ValueError when wrong arguments\n",
    "    \n",
    "    \"\"\"\n",
    "    if size < 0:\n",
    "        raise ValueError(\"size must be greater than zero\")\n",
    "    \n",
    "    if distribution == 'normal':\n",
    "        m = (left+right)/2\n",
    "        random_array = np.random.normal(m, 1.0, size)\n",
    "    else:\n",
    "        random_array = np.random.uniform(left, right, size)\n",
    "    \n",
    "    return random_array"
   ]
  },
  {
   "cell_type": "markdown",
   "id": "f742cda7-dc7b-48c3-bfc4-14e373cb8ba4",
   "metadata": {},
   "source": [
    "## Question B"
   ]
  },
  {
   "cell_type": "code",
   "execution_count": 2,
   "id": "7c0494a8-8126-4df5-a311-50a1c1820751",
   "metadata": {},
   "outputs": [],
   "source": [
    "def question_b():\n",
    "    \"\"\"\n",
    "    Create an SQLite database in a file exam.db\n",
    "    This function creates an squlite database with a table named 'random_numbers'\n",
    "    \n",
    "    Args:\n",
    "        None\n",
    "    Returns:\n",
    "        None\n",
    "    Exceptions:\n",
    "        Raises SQLite Error when wrong arguments\n",
    "    \n",
    "    \"\"\"\n",
    "    db_file = \"exam.db\"\n",
    "    random_numbers_table_sql = \"\"\"CREATE TABLE IF NOT EXISTS random_numbers (\n",
    "                                    id integer PRIMARY KEY,\n",
    "                                    uniform real NOT NULL,\n",
    "                                    normal real NOT NULL\n",
    "                                );\"\"\"\n",
    "    \n",
    "    # create database \n",
    "    conn = None\n",
    "    try:\n",
    "        conn = sqlite3.connect(db_file)\n",
    "        return conn\n",
    "    except Error as e:\n",
    "        print(e)\n",
    "    \n",
    "    if conn is not None:\n",
    "        # create random_numbers table\n",
    "        create_table(conn, random_numbers_table_sql)\n",
    "    else:\n",
    "        print(\"Error! cannot create the database connection.\")"
   ]
  },
  {
   "cell_type": "markdown",
   "id": "e430a7ab-31cc-4f03-a96e-85f6d1f4b429",
   "metadata": {},
   "source": [
    "## Question C"
   ]
  },
  {
   "cell_type": "code",
   "execution_count": 6,
   "id": "cb0f2185-5f6f-4e41-8c4a-f05dce03c7ac",
   "metadata": {},
   "outputs": [],
   "source": [
    "def question_c():\n",
    "    \"\"\"\n",
    "    Insert 1000 entries of random numbers generated into the random_numbers table.\n",
    "    \n",
    "    Args:\n",
    "        None\n",
    "    Returns:\n",
    "        None\n",
    "    Exceptions:\n",
    "        Raises ValueError when wrong arguments\n",
    "    \n",
    "    \"\"\"\n",
    "    \n",
    "    #ingest values from generator function in question a\n",
    "    uniform_vals=question_a(-100, 100, 1000, 'uniform')\n",
    "    normal_vals=question_a(-100, 100, 1000, 'normal')\n",
    "    \n",
    "    #insert into database\n",
    "    db_file=\"exam.db\"\n",
    "    insert_sql = ''' INSERT INTO random_numbers(id,uniform,normal)\n",
    "              VALUES(?,?,?) '''\n",
    "    \n",
    "    conn = None\n",
    "    try:\n",
    "        conn = sqlite3.connect(db_file)\n",
    "    except Error as e:\n",
    "        print(e)\n",
    "\n",
    "    cur = conn.cursor()\n",
    "    cur.execute(sql, random_numbers)\n",
    "    conn.commit()"
   ]
  },
  {
   "cell_type": "markdown",
   "id": "ee21d3a3-0e18-41c0-8d73-663b65445338",
   "metadata": {},
   "source": [
    "## Question D"
   ]
  },
  {
   "cell_type": "code",
   "execution_count": 4,
   "id": "4425f781-6632-4441-bda7-bb0885cede70",
   "metadata": {},
   "outputs": [],
   "source": [
    "def question_d():\n",
    "    \"\"\"\n",
    "    Select and return entries from the random_numbers table as a pandas dataframe.\n",
    "    \n",
    "    Args:\n",
    "        id_start : int\n",
    "            Lowest number in range of numbers (inclusive)\n",
    "        id_stop : int\n",
    "            Highest number in range of numbers (exclusive)\n",
    "    Returns:\n",
    "        Pandas Data Frame: float\n",
    "    Exceptions:\n",
    "        None\n",
    "    \n",
    "    \"\"\"\n",
    "    db_file=\"exam.db\"\n",
    "    insert_sql = ''' INSERT INTO random_numbers(id,uniform,normal)\n",
    "              VALUES(?,?,?) '''\n",
    "    \n",
    "    conn = None\n",
    "    try:\n",
    "        conn = sqlite3.connect(db_file)\n",
    "    except Error as e:\n",
    "        print(e)\n",
    "\n",
    "    cur = conn.cursor()\n",
    "    cur.execute(\"SELECT * FROM tasks\")\n",
    "    rows = cur.fetchall()\n",
    "    "
   ]
  },
  {
   "cell_type": "markdown",
   "id": "ab62ac14-6ea5-4356-8292-820b7053a46a",
   "metadata": {},
   "source": [
    "## Question E"
   ]
  },
  {
   "cell_type": "code",
   "execution_count": null,
   "id": "67d391ca-8432-45db-92ad-c99b044b9f38",
   "metadata": {},
   "outputs": [],
   "source": []
  }
 ],
 "metadata": {
  "kernelspec": {
   "display_name": "Python 3 (ipykernel)",
   "language": "python",
   "name": "python3"
  },
  "language_info": {
   "codemirror_mode": {
    "name": "ipython",
    "version": 3
   },
   "file_extension": ".py",
   "mimetype": "text/x-python",
   "name": "python",
   "nbconvert_exporter": "python",
   "pygments_lexer": "ipython3",
   "version": "3.8.2"
  }
 },
 "nbformat": 4,
 "nbformat_minor": 5
}
